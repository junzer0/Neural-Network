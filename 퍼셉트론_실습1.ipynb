{
  "nbformat": 4,
  "nbformat_minor": 0,
  "metadata": {
    "colab": {
      "provenance": [],
      "authorship_tag": "ABX9TyMCQ+U9hDygCgMikStR3peW",
      "include_colab_link": true
    },
    "kernelspec": {
      "name": "python3",
      "display_name": "Python 3"
    },
    "language_info": {
      "name": "python"
    }
  },
  "cells": [
    {
      "cell_type": "markdown",
      "metadata": {
        "id": "view-in-github",
        "colab_type": "text"
      },
      "source": [
        "<a href=\"https://colab.research.google.com/github/junzer0/Neural-Network/blob/main/%ED%8D%BC%EC%85%89%ED%8A%B8%EB%A1%A0_%EC%8B%A4%EC%8A%B51.ipynb\" target=\"_parent\"><img src=\"https://colab.research.google.com/assets/colab-badge.svg\" alt=\"Open In Colab\"/></a>"
      ]
    },
    {
      "cell_type": "markdown",
      "source": [
        "**inputs(입력) and weights(가중치)**"
      ],
      "metadata": {
        "id": "-Wm0m99l7Ejj"
      }
    },
    {
      "cell_type": "code",
      "source": [
        "inputs = [25, 17.5]"
      ],
      "metadata": {
        "id": "cxNHTHGA7S7V"
      },
      "execution_count": null,
      "outputs": []
    },
    {
      "cell_type": "code",
      "source": [
        "type(inputs)"
      ],
      "metadata": {
        "colab": {
          "base_uri": "https://localhost:8080/"
        },
        "id": "nqPgVlr17qaU",
        "outputId": "6f3962ee-4695-4724-a652-265fc5428794"
      },
      "execution_count": null,
      "outputs": [
        {
          "output_type": "execute_result",
          "data": {
            "text/plain": [
              "list"
            ]
          },
          "metadata": {},
          "execution_count": 5
        }
      ]
    },
    {
      "cell_type": "code",
      "source": [
        "inputs[0]"
      ],
      "metadata": {
        "colab": {
          "base_uri": "https://localhost:8080/"
        },
        "id": "3HEVhn_k8CD6",
        "outputId": "8eac19cf-d0f9-46af-d97d-be2ff8b071cc"
      },
      "execution_count": null,
      "outputs": [
        {
          "output_type": "execute_result",
          "data": {
            "text/plain": [
              "25"
            ]
          },
          "metadata": {},
          "execution_count": 8
        }
      ]
    },
    {
      "cell_type": "code",
      "source": [
        "inputs[1]"
      ],
      "metadata": {
        "colab": {
          "base_uri": "https://localhost:8080/"
        },
        "id": "W0Hu0OTd8h4j",
        "outputId": "7bc82be6-442f-4719-9ac7-9a02b183ab98"
      },
      "execution_count": null,
      "outputs": [
        {
          "output_type": "execute_result",
          "data": {
            "text/plain": [
              "17.5"
            ]
          },
          "metadata": {},
          "execution_count": 9
        }
      ]
    },
    {
      "cell_type": "code",
      "source": [
        "weights = [0.8, 0.1]"
      ],
      "metadata": {
        "id": "fn8dDl6I8s-1"
      },
      "execution_count": null,
      "outputs": []
    },
    {
      "cell_type": "code",
      "source": [
        "weights[0]"
      ],
      "metadata": {
        "colab": {
          "base_uri": "https://localhost:8080/"
        },
        "id": "6IaVX4PL8ypH",
        "outputId": "48514c78-27ad-4d93-cebb-087dfc57a941"
      },
      "execution_count": null,
      "outputs": [
        {
          "output_type": "execute_result",
          "data": {
            "text/plain": [
              "0.8"
            ]
          },
          "metadata": {},
          "execution_count": 11
        }
      ]
    },
    {
      "cell_type": "code",
      "source": [
        "weights[1]"
      ],
      "metadata": {
        "colab": {
          "base_uri": "https://localhost:8080/"
        },
        "id": "htqkngHd823o",
        "outputId": "e67228e5-45dc-44fd-8423-2140214bd99c"
      },
      "execution_count": null,
      "outputs": [
        {
          "output_type": "execute_result",
          "data": {
            "text/plain": [
              "0.1"
            ]
          },
          "metadata": {},
          "execution_count": 13
        }
      ]
    },
    {
      "cell_type": "markdown",
      "source": [
        "**Sum** **function**"
      ],
      "metadata": {
        "id": "7UB_cOWQ8-bd"
      }
    },
    {
      "cell_type": "code",
      "source": [
        "def sum(inputs, weights):\n",
        "  s = 0\n",
        "  for i in range(2):\n",
        "    s += inputs[i] * weights[i]\n",
        "  return s\n"
      ],
      "metadata": {
        "id": "Wraqzvlm9FiS"
      },
      "execution_count": null,
      "outputs": []
    },
    {
      "cell_type": "code",
      "source": [
        "s = sum(inputs, weights)"
      ],
      "metadata": {
        "id": "JrE1jWFl-v97"
      },
      "execution_count": null,
      "outputs": []
    },
    {
      "cell_type": "code",
      "source": [
        "s"
      ],
      "metadata": {
        "colab": {
          "base_uri": "https://localhost:8080/"
        },
        "id": "Hx9IxmxzBBnY",
        "outputId": "0bd89b47-67bd-4e21-acc0-7e8318d415b9"
      },
      "execution_count": null,
      "outputs": [
        {
          "output_type": "execute_result",
          "data": {
            "text/plain": [
              "21.75"
            ]
          },
          "metadata": {},
          "execution_count": 31
        }
      ]
    },
    {
      "cell_type": "markdown",
      "source": [
        "**Activation function -> Step function**"
      ],
      "metadata": {
        "id": "MHwMofrN_XV_"
      }
    },
    {
      "cell_type": "code",
      "source": [
        "def step_function(sum):\n",
        "  if (sum >= 1):\n",
        "    return 1\n",
        "  return 0"
      ],
      "metadata": {
        "id": "8bTq9JgY_iTY"
      },
      "execution_count": null,
      "outputs": []
    },
    {
      "cell_type": "markdown",
      "source": [
        "**Final result**"
      ],
      "metadata": {
        "id": "Qc3RtVyBAVFq"
      }
    },
    {
      "cell_type": "code",
      "source": [
        "step_function(s)"
      ],
      "metadata": {
        "colab": {
          "base_uri": "https://localhost:8080/"
        },
        "id": "thI9tIjCAYs8",
        "outputId": "6901c47a-154d-40dc-e149-8000cebb67d6"
      },
      "execution_count": null,
      "outputs": [
        {
          "output_type": "execute_result",
          "data": {
            "text/plain": [
              "1"
            ]
          },
          "metadata": {},
          "execution_count": 32
        }
      ]
    }
  ]
}