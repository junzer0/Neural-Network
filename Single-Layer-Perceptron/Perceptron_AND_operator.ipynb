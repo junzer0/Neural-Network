{
  "nbformat": 4,
  "nbformat_minor": 0,
  "metadata": {
    "colab": {
      "provenance": [],
      "include_colab_link": true
    },
    "kernelspec": {
      "name": "python3",
      "display_name": "Python 3"
    }
  },
  "cells": [
    {
      "cell_type": "markdown",
      "metadata": {
        "id": "view-in-github",
        "colab_type": "text"
      },
      "source": [
        "<a href=\"https://colab.research.google.com/github/junzer0/Neural-Network/blob/main/Perceptron_AND_operator.ipynb\" target=\"_parent\"><img src=\"https://colab.research.google.com/assets/colab-badge.svg\" alt=\"Open In Colab\"/></a>"
      ]
    },
    {
      "cell_type": "markdown",
      "metadata": {
        "id": "HIdhT6gdtGK5"
      },
      "source": [
        "# Perceptron AND operator\n",
        "\n",
        "![alt text](https://drive.google.com/uc?id=1EVKYuVhLOMcvCOo4x2WDe9-rzbsIqe47)\n",
        "\n"
      ]
    },
    {
      "cell_type": "markdown",
      "metadata": {
        "id": "vtFvQ1gyvHjb"
      },
      "source": [
        "## Inputs, outputs and weights"
      ]
    },
    {
      "cell_type": "code",
      "metadata": {
        "id": "zVX7eezn1tvH"
      },
      "source": [
        "import numpy as np"
      ],
      "execution_count": 1,
      "outputs": []
    },
    {
      "cell_type": "code",
      "metadata": {
        "id": "FN5Nn9So1wQR"
      },
      "source": [
        "inputs = np.array([[0,0], [0,1], [1,0], [1,1]])"
      ],
      "execution_count": 2,
      "outputs": []
    },
    {
      "cell_type": "code",
      "metadata": {
        "id": "vIj1zmYg19fK",
        "outputId": "a4412c0b-48c7-4089-bc38-9bd8fd24cbe5",
        "colab": {
          "base_uri": "https://localhost:8080/"
        }
      },
      "source": [
        "inputs.shape"
      ],
      "execution_count": 3,
      "outputs": [
        {
          "output_type": "execute_result",
          "data": {
            "text/plain": [
              "(4, 2)"
            ]
          },
          "metadata": {},
          "execution_count": 3
        }
      ]
    },
    {
      "cell_type": "code",
      "metadata": {
        "id": "LVntoG8i2L3j"
      },
      "source": [
        "outputs = np.array([0, 0, 0, 1])"
      ],
      "execution_count": 4,
      "outputs": []
    },
    {
      "cell_type": "code",
      "metadata": {
        "id": "_yu4Vm4H2Sr4",
        "outputId": "49cc2fec-98af-430b-d317-671dd3bc3700",
        "colab": {
          "base_uri": "https://localhost:8080/"
        }
      },
      "source": [
        "outputs.shape"
      ],
      "execution_count": 5,
      "outputs": [
        {
          "output_type": "execute_result",
          "data": {
            "text/plain": [
              "(4,)"
            ]
          },
          "metadata": {},
          "execution_count": 5
        }
      ]
    },
    {
      "cell_type": "code",
      "metadata": {
        "id": "T2Rcfnnn2ZmH"
      },
      "source": [
        "weights = np.array([0.0, 0.0])"
      ],
      "execution_count": 6,
      "outputs": []
    },
    {
      "cell_type": "code",
      "metadata": {
        "id": "NbODX3RP2h8i"
      },
      "source": [
        "learning_rate = 0.1"
      ],
      "execution_count": 7,
      "outputs": []
    },
    {
      "cell_type": "markdown",
      "metadata": {
        "id": "ocsTG9x4xBg6"
      },
      "source": [
        "## Step function"
      ]
    },
    {
      "cell_type": "code",
      "metadata": {
        "id": "o1RFqwKK2tpV"
      },
      "source": [
        "def step_function(sum):\n",
        "  if (sum >= 1):\n",
        "    return 1\n",
        "  return 0"
      ],
      "execution_count": 8,
      "outputs": []
    },
    {
      "cell_type": "markdown",
      "metadata": {
        "id": "Mafr9eVAxNZl"
      },
      "source": [
        "## Calculate output"
      ]
    },
    {
      "cell_type": "code",
      "metadata": {
        "id": "sn3ceNoI24Gc"
      },
      "source": [
        "def calculate_output(instance):\n",
        "  s = instance.dot(weights)\n",
        "  return step_function(s)"
      ],
      "execution_count": 9,
      "outputs": []
    },
    {
      "cell_type": "code",
      "metadata": {
        "id": "thzmKR6M3cU2",
        "colab": {
          "base_uri": "https://localhost:8080/"
        },
        "outputId": "aaabdd38-16d8-4f10-efc9-931a77849f2e"
      },
      "source": [
        "calculate_output(np.array([[1,1]]))"
      ],
      "execution_count": 10,
      "outputs": [
        {
          "output_type": "execute_result",
          "data": {
            "text/plain": [
              "0"
            ]
          },
          "metadata": {},
          "execution_count": 10
        }
      ]
    },
    {
      "cell_type": "markdown",
      "metadata": {
        "id": "fb9IBkO6EE0e"
      },
      "source": [
        "## Train"
      ]
    },
    {
      "cell_type": "code",
      "metadata": {
        "id": "c9eBJd296stq",
        "colab": {
          "base_uri": "https://localhost:8080/"
        },
        "outputId": "ba33a131-711f-4772-8bcf-9478f4c6381b"
      },
      "source": [
        "len(outputs)"
      ],
      "execution_count": 11,
      "outputs": [
        {
          "output_type": "execute_result",
          "data": {
            "text/plain": [
              "4"
            ]
          },
          "metadata": {},
          "execution_count": 11
        }
      ]
    },
    {
      "cell_type": "code",
      "metadata": {
        "id": "8Jlf_XuV69tP",
        "colab": {
          "base_uri": "https://localhost:8080/"
        },
        "outputId": "c7c8918a-cf59-4bb6-c480-68437ffa18c7"
      },
      "source": [
        "inputs[3]"
      ],
      "execution_count": 12,
      "outputs": [
        {
          "output_type": "execute_result",
          "data": {
            "text/plain": [
              "array([1, 1])"
            ]
          },
          "metadata": {},
          "execution_count": 12
        }
      ]
    },
    {
      "cell_type": "code",
      "metadata": {
        "id": "DVdsPGuU7gCN",
        "colab": {
          "base_uri": "https://localhost:8080/"
        },
        "outputId": "88a6b413-d0e2-4218-c39a-82157411ba61"
      },
      "source": [
        "0 - 1"
      ],
      "execution_count": 13,
      "outputs": [
        {
          "output_type": "execute_result",
          "data": {
            "text/plain": [
              "-1"
            ]
          },
          "metadata": {},
          "execution_count": 13
        }
      ]
    },
    {
      "cell_type": "code",
      "metadata": {
        "id": "X3BYWplb7izL",
        "colab": {
          "base_uri": "https://localhost:8080/"
        },
        "outputId": "7208fcc8-4e8d-4f68-b3da-5c327dc39eb8"
      },
      "source": [
        "abs(0 - 1)"
      ],
      "execution_count": 14,
      "outputs": [
        {
          "output_type": "execute_result",
          "data": {
            "text/plain": [
              "1"
            ]
          },
          "metadata": {},
          "execution_count": 14
        }
      ]
    },
    {
      "cell_type": "code",
      "metadata": {
        "id": "rmcm4Eq486Dx",
        "colab": {
          "base_uri": "https://localhost:8080/"
        },
        "outputId": "8cadedcb-c075-49a2-ae43-c182bb295cd3"
      },
      "source": [
        "inputs"
      ],
      "execution_count": 15,
      "outputs": [
        {
          "output_type": "execute_result",
          "data": {
            "text/plain": [
              "array([[0, 0],\n",
              "       [0, 1],\n",
              "       [1, 0],\n",
              "       [1, 1]])"
            ]
          },
          "metadata": {},
          "execution_count": 15
        }
      ]
    },
    {
      "cell_type": "code",
      "metadata": {
        "id": "PztcBQLF879g",
        "colab": {
          "base_uri": "https://localhost:8080/"
        },
        "outputId": "2c4dc49b-7fe3-4f83-abc3-026f724c2846"
      },
      "source": [
        "inputs[1]"
      ],
      "execution_count": 16,
      "outputs": [
        {
          "output_type": "execute_result",
          "data": {
            "text/plain": [
              "array([0, 1])"
            ]
          },
          "metadata": {},
          "execution_count": 16
        }
      ]
    },
    {
      "cell_type": "code",
      "metadata": {
        "id": "jXitRPI28-Tb",
        "colab": {
          "base_uri": "https://localhost:8080/"
        },
        "outputId": "d59f8cbe-3802-463b-faa9-440260f6f7bd"
      },
      "source": [
        "inputs[1][0]"
      ],
      "execution_count": 17,
      "outputs": [
        {
          "output_type": "execute_result",
          "data": {
            "text/plain": [
              "0"
            ]
          },
          "metadata": {},
          "execution_count": 17
        }
      ]
    },
    {
      "cell_type": "code",
      "metadata": {
        "id": "h3SSwlF49By5",
        "colab": {
          "base_uri": "https://localhost:8080/"
        },
        "outputId": "98c4fedb-fdfd-451f-93f9-eb56c744c29f"
      },
      "source": [
        "inputs[1][1]"
      ],
      "execution_count": 18,
      "outputs": [
        {
          "output_type": "execute_result",
          "data": {
            "text/plain": [
              "1"
            ]
          },
          "metadata": {},
          "execution_count": 18
        }
      ]
    },
    {
      "cell_type": "code",
      "metadata": {
        "id": "bX8W0Rec4wnS"
      },
      "source": [
        "def train():\n",
        "  total_error = 1\n",
        "  while (total_error != 0):\n",
        "    total_error = 0\n",
        "    for i in range(len(outputs)):\n",
        "      prediction = calculate_output(inputs[i])\n",
        "      error = abs(outputs[i] - prediction)\n",
        "      total_error += error\n",
        "      if error > 0:\n",
        "        for j in range(len(weights)):\n",
        "          weights[j] = weights[j] + (learning_rate * inputs[i][j] * error)\n",
        "          print('Weight updated: ' + str(weights[j]))\n",
        "    print('Total error: ' + str(total_error))"
      ],
      "execution_count": 19,
      "outputs": []
    },
    {
      "cell_type": "code",
      "metadata": {
        "id": "0Y-Jk-Nt9ZSY",
        "colab": {
          "base_uri": "https://localhost:8080/"
        },
        "outputId": "a0de51e3-8b60-4d64-b8f3-652768fe4c30"
      },
      "source": [
        "train()"
      ],
      "execution_count": 20,
      "outputs": [
        {
          "output_type": "stream",
          "name": "stdout",
          "text": [
            "Weight updated: 0.1\n",
            "Weight updated: 0.1\n",
            "Total error: 1\n",
            "Weight updated: 0.2\n",
            "Weight updated: 0.2\n",
            "Total error: 1\n",
            "Weight updated: 0.30000000000000004\n",
            "Weight updated: 0.30000000000000004\n",
            "Total error: 1\n",
            "Weight updated: 0.4\n",
            "Weight updated: 0.4\n",
            "Total error: 1\n",
            "Weight updated: 0.5\n",
            "Weight updated: 0.5\n",
            "Total error: 1\n",
            "Total error: 0\n"
          ]
        }
      ]
    },
    {
      "cell_type": "markdown",
      "metadata": {
        "id": "eyqXVsyxEGk5"
      },
      "source": [
        "## Classification"
      ]
    },
    {
      "cell_type": "code",
      "metadata": {
        "id": "qQty0v4l-RNN",
        "colab": {
          "base_uri": "https://localhost:8080/"
        },
        "outputId": "73eb7c07-e4b1-48ce-c839-fc7d7bb0fe0c"
      },
      "source": [
        "weights"
      ],
      "execution_count": 21,
      "outputs": [
        {
          "output_type": "execute_result",
          "data": {
            "text/plain": [
              "array([0.5, 0.5])"
            ]
          },
          "metadata": {},
          "execution_count": 21
        }
      ]
    },
    {
      "cell_type": "code",
      "metadata": {
        "id": "HjQzKFmX-buf",
        "colab": {
          "base_uri": "https://localhost:8080/"
        },
        "outputId": "0a98578b-950d-4380-df33-20910817a1a3"
      },
      "source": [
        "calculate_output(np.array([0,0]))"
      ],
      "execution_count": 22,
      "outputs": [
        {
          "output_type": "execute_result",
          "data": {
            "text/plain": [
              "0"
            ]
          },
          "metadata": {},
          "execution_count": 22
        }
      ]
    },
    {
      "cell_type": "code",
      "metadata": {
        "id": "NyWEM6u7-jE9",
        "colab": {
          "base_uri": "https://localhost:8080/"
        },
        "outputId": "2fe6136d-168c-4504-c386-c4bbee7d1ae6"
      },
      "source": [
        "calculate_output(np.array([0,1]))"
      ],
      "execution_count": 23,
      "outputs": [
        {
          "output_type": "execute_result",
          "data": {
            "text/plain": [
              "0"
            ]
          },
          "metadata": {},
          "execution_count": 23
        }
      ]
    },
    {
      "cell_type": "code",
      "metadata": {
        "id": "f6_o3dym-lCu",
        "colab": {
          "base_uri": "https://localhost:8080/"
        },
        "outputId": "1e461daa-e86d-4d85-efa3-458789d5911a"
      },
      "source": [
        "calculate_output(np.array([1,0]))"
      ],
      "execution_count": 24,
      "outputs": [
        {
          "output_type": "execute_result",
          "data": {
            "text/plain": [
              "0"
            ]
          },
          "metadata": {},
          "execution_count": 24
        }
      ]
    },
    {
      "cell_type": "code",
      "metadata": {
        "id": "nrolm14p-mvC",
        "colab": {
          "base_uri": "https://localhost:8080/"
        },
        "outputId": "84b46f3b-5885-4351-b4f0-7ee3989533fc"
      },
      "source": [
        "calculate_output(np.array([1,1]))"
      ],
      "execution_count": 25,
      "outputs": [
        {
          "output_type": "execute_result",
          "data": {
            "text/plain": [
              "1"
            ]
          },
          "metadata": {},
          "execution_count": 25
        }
      ]
    }
  ]
}
