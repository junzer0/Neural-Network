{
  "nbformat": 4,
  "nbformat_minor": 0,
  "metadata": {
    "colab": {
      "provenance": [],
      "authorship_tag": "ABX9TyOiSjA6Cda3V+tlJgXSQEsU",
      "include_colab_link": true
    },
    "kernelspec": {
      "name": "python3",
      "display_name": "Python 3"
    },
    "language_info": {
      "name": "python"
    }
  },
  "cells": [
    {
      "cell_type": "markdown",
      "metadata": {
        "id": "view-in-github",
        "colab_type": "text"
      },
      "source": [
        "<a href=\"https://colab.research.google.com/github/junzer0/Neural-Network/blob/main/%ED%8D%BC%EC%85%89%ED%8A%B8%EB%A1%A0_2.ipynb\" target=\"_parent\"><img src=\"https://colab.research.google.com/assets/colab-badge.svg\" alt=\"Open In Colab\"/></a>"
      ]
    },
    {
      "cell_type": "markdown",
      "source": [
        "**# Perceptron 2**"
      ],
      "metadata": {
        "id": "Mu1tcZwiDd8A"
      }
    },
    {
      "cell_type": "markdown",
      "source": [
        "Inputs and weights"
      ],
      "metadata": {
        "id": "fwj7h0oMDl_x"
      }
    },
    {
      "cell_type": "code",
      "source": [
        "import numpy as np"
      ],
      "metadata": {
        "id": "EMwnlr5lDuii"
      },
      "execution_count": 1,
      "outputs": []
    },
    {
      "cell_type": "code",
      "source": [
        "inputs = np.array([35,25]) # numpy에 맞는 유형으로 변경 python list -> numpy array"
      ],
      "metadata": {
        "id": "MT0opPQfF4hO"
      },
      "execution_count": 2,
      "outputs": []
    },
    {
      "cell_type": "code",
      "source": [
        "type(inputs)"
      ],
      "metadata": {
        "colab": {
          "base_uri": "https://localhost:8080/"
        },
        "id": "BDh8JL45D9oP",
        "outputId": "8bf11c0d-ebb8-4e52-d9bd-52bce3362969"
      },
      "execution_count": 3,
      "outputs": [
        {
          "output_type": "execute_result",
          "data": {
            "text/plain": [
              "numpy.ndarray"
            ]
          },
          "metadata": {},
          "execution_count": 3
        }
      ]
    },
    {
      "cell_type": "code",
      "source": [
        "weights = np.array([0.8, 0.1])"
      ],
      "metadata": {
        "id": "UdfT20HcEAfk"
      },
      "execution_count": 19,
      "outputs": []
    },
    {
      "cell_type": "code",
      "source": [
        "type(weights)"
      ],
      "metadata": {
        "colab": {
          "base_uri": "https://localhost:8080/"
        },
        "id": "nA1X3DLkHOET",
        "outputId": "de034662-b25b-4296-c889-1638f1eb3882"
      },
      "execution_count": 20,
      "outputs": [
        {
          "output_type": "execute_result",
          "data": {
            "text/plain": [
              "numpy.ndarray"
            ]
          },
          "metadata": {},
          "execution_count": 20
        }
      ]
    },
    {
      "cell_type": "markdown",
      "source": [
        "Sum function"
      ],
      "metadata": {
        "id": "nYjFYzgREGMm"
      }
    },
    {
      "cell_type": "code",
      "source": [
        "def sum(inputs, weights):\n",
        "  return inputs.dot(weights) # dot 함수: 값을 곱하고 더하는 선형대수학의 용어 -> for 루프 필요 x"
      ],
      "metadata": {
        "id": "zr_M4OroEIyS"
      },
      "execution_count": 21,
      "outputs": []
    },
    {
      "cell_type": "code",
      "source": [
        "s = sum(inputs, weights)"
      ],
      "metadata": {
        "id": "8FEu5kKiFkYT"
      },
      "execution_count": 22,
      "outputs": []
    },
    {
      "cell_type": "code",
      "source": [
        "s"
      ],
      "metadata": {
        "colab": {
          "base_uri": "https://localhost:8080/"
        },
        "id": "DmIUfcudLBP0",
        "outputId": "4c0a58da-8dbe-403e-f640-3be63d9c6a1a"
      },
      "execution_count": 23,
      "outputs": [
        {
          "output_type": "execute_result",
          "data": {
            "text/plain": [
              "30.5"
            ]
          },
          "metadata": {},
          "execution_count": 23
        }
      ]
    },
    {
      "cell_type": "markdown",
      "source": [
        "Activation function -> Step function"
      ],
      "metadata": {
        "id": "o2mnQDJmLE74"
      }
    },
    {
      "cell_type": "code",
      "source": [
        "def step_function(sum):\n",
        "  if (sum >= 1):\n",
        "    return 1\n",
        "  return 0"
      ],
      "metadata": {
        "id": "Ta7MkAA1LLTr"
      },
      "execution_count": 24,
      "outputs": []
    },
    {
      "cell_type": "markdown",
      "source": [
        "Final result"
      ],
      "metadata": {
        "id": "CLmpEIkcLUrB"
      }
    },
    {
      "cell_type": "code",
      "source": [
        "step_function(s)"
      ],
      "metadata": {
        "colab": {
          "base_uri": "https://localhost:8080/"
        },
        "id": "7sGj2aXHLW7u",
        "outputId": "73d722cf-75b5-4295-8f6b-faba2ddd341c"
      },
      "execution_count": 25,
      "outputs": [
        {
          "output_type": "execute_result",
          "data": {
            "text/plain": [
              "1"
            ]
          },
          "metadata": {},
          "execution_count": 25
        }
      ]
    }
  ]
}
